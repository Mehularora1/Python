{
  "nbformat": 4,
  "nbformat_minor": 0,
  "metadata": {
    "colab": {
      "provenance": []
    },
    "kernelspec": {
      "name": "python3",
      "display_name": "Python 3"
    },
    "language_info": {
      "name": "python"
    }
  },
  "cells": [
    {
      "cell_type": "markdown",
      "source": [
        "# python assignment"
      ],
      "metadata": {
        "id": "y1d5ZlC-D8Au"
      }
    },
    {
      "cell_type": "code",
      "execution_count": null,
      "metadata": {
        "id": "eYLu6XTrDwXy"
      },
      "outputs": [],
      "source": []
    },
    {
      "cell_type": "markdown",
      "source": [
        "1. What is Python, and why is it popular ?\n",
        ">> Python is a type of computer language that people use to give instructions to a computer.\n",
        "\n",
        "Easy to read and write - The code looks like regular English, so it’s simple to learn.\n",
        "\n",
        "Used for many things - Like websites, games, apps, robots, and even helping scientists.\n",
        "\n",
        "Lots of help online -Many people use it, so it’s easy to find answers when you’re stuck.\n",
        "\n",
        "Free to use - Anyone can download and use it without paying.\n",
        "\n",
        "Works everywhere - You can run Python on almost any computer.\n",
        "\n",
        "2. What is an interpreter in Python ?\n",
        ">> An interpreter in Python is a program that reads and runs your code line by line.\n",
        "\n",
        "3. What are pre-defined keywords in Python?\n",
        ">> Pre-defined keywords in Python are special words that the language already understands and has a fixed meaning.\n",
        "for example if , for or true and false.\n",
        "\n",
        "4.Can keywords be used as variable names?\n",
        ">> No. Keywords are special words Python already uses\n",
        "You can't use them to name your own variables.\n",
        "for example if=5(its false )\n",
        "\n",
        "5.What is mutability in Python?\n",
        ">> Mutability means whether you can change the value of something after you create it.\n",
        "\n",
        "Mutable = changeable (like a list)\n",
        "\n",
        "Immutable = not changeable (like a string or tuple)\n",
        "\n",
        "6. Why are lists mutable, but tuples are immutable?\n",
        ">>Lists are made to change — you can add, remove, or update items.\n",
        "\n",
        "Tuples are made to stay the same — once created, they cannot be changed.\n",
        "Python makes this rule to help protect fixed data and make programs faster.\n",
        "\n",
        "7. What is the difference between == and is in Python?\n",
        ">>> == checks if values are the same.\n",
        "\n",
        "is checks if they are the same object in memory.\n",
        "\n",
        "8. What is type casting in Python?\n",
        ">> Type casting means changing one type of value to another.\n",
        "\n",
        "9. What is the difference between implicit and explicit type casting?\n",
        ">> Implicit: Python does it by itself\n",
        "  example\n",
        "a = 3 + 2.5  # Python turns 3 into 3.0\n",
        "\n",
        "   Explicit: You tell Python to do it\n",
        " example\n",
        "b = int(\"8\")  # You change string to number\n",
        "\n",
        "10. What is the purpose of conditional statements in Python?\n",
        ">>> They let your program make decisions.\n",
        "You can run different code depending on whether something is true or false.\n",
        "\n",
        "11. How does the elif statement work?\n",
        ">>> elif means “else if”.\n",
        "It checks another condition if the first one isn’t true.\n",
        "\n",
        "12. What is the difference between for and while loops?\n",
        ">>  for loop = repeats a set number of times (like going through a list)\n",
        "\n",
        "while loop = keeps going as long as a condition is true\n",
        "\n",
        "13. Describe a scenario where a while loop is better than a for loop\n",
        ">>> Use a while loop when you don’t know how many times something will happen.\n",
        "Example: Keep asking a user to enter the correct password until they get it right:\n",
        "\n",
        "while password != \"1234\":\n",
        "    password = input(\"Enter password: \")\n",
        "\n",
        "\n",
        "\n",
        "\n",
        "\n"
      ],
      "metadata": {
        "id": "m9Lky70MEM8G"
      }
    },
    {
      "cell_type": "code",
      "source": [],
      "metadata": {
        "id": "YiBD6invMFR8"
      },
      "execution_count": null,
      "outputs": []
    },
    {
      "cell_type": "markdown",
      "source": [
        "Phython pratical questions"
      ],
      "metadata": {
        "id": "uu04i9joMHwy"
      }
    },
    {
      "cell_type": "code",
      "source": [
        "#question 1\n",
        "\n",
        "print(\"hello world\")"
      ],
      "metadata": {
        "colab": {
          "base_uri": "https://localhost:8080/"
        },
        "id": "VdVYYzz-MEIA",
        "outputId": "84aa8f63-e566-49db-dca6-2f2427b34891"
      },
      "execution_count": 1,
      "outputs": [
        {
          "output_type": "stream",
          "name": "stdout",
          "text": [
            "hello world\n"
          ]
        }
      ]
    },
    {
      "cell_type": "code",
      "source": [
        "#question 2\n",
        "name=input(\"name\")\n",
        "age=input(\"age\")"
      ],
      "metadata": {
        "colab": {
          "base_uri": "https://localhost:8080/"
        },
        "id": "ZAqMv9x3NbDR",
        "outputId": "c08fe0c0-5108-4d15-c331-bceed00751f2"
      },
      "execution_count": 2,
      "outputs": [
        {
          "name": "stdout",
          "output_type": "stream",
          "text": [
            "namemehul\n",
            "age20\n"
          ]
        }
      ]
    },
    {
      "cell_type": "code",
      "source": [
        "#question 3\n",
        "help(\"keywords\")"
      ],
      "metadata": {
        "colab": {
          "base_uri": "https://localhost:8080/"
        },
        "id": "FyUKiO2pNsuC",
        "outputId": "6c8366aa-c8b0-40bc-c803-c2169798b0d2"
      },
      "execution_count": 3,
      "outputs": [
        {
          "output_type": "stream",
          "name": "stdout",
          "text": [
            "\n",
            "Here is a list of the Python keywords.  Enter any keyword to get more help.\n",
            "\n",
            "False               class               from                or\n",
            "None                continue            global              pass\n",
            "True                def                 if                  raise\n",
            "and                 del                 import              return\n",
            "as                  elif                in                  try\n",
            "assert              else                is                  while\n",
            "async               except              lambda              with\n",
            "await               finally             nonlocal            yield\n",
            "break               for                 not                 \n",
            "\n"
          ]
        }
      ]
    },
    {
      "cell_type": "code",
      "source": [
        "#question 4\n",
        "import keyword\n",
        "\n",
        "word = input(\"Enter a word: \")\n",
        "\n",
        "if keyword.iskeyword(word):\n",
        "    print(f\"'{word}' is a Python keyword.\")\n",
        "else:\n",
        "    print(f\"'{word}' is NOT a Python keyword.\")\n",
        "\n"
      ],
      "metadata": {
        "colab": {
          "base_uri": "https://localhost:8080/"
        },
        "id": "58iNVchoQF36",
        "outputId": "78a65473-8749-493b-f1ba-c7001c534b7e"
      },
      "execution_count": 10,
      "outputs": [
        {
          "output_type": "stream",
          "name": "stdout",
          "text": [
            "Enter a word: for\n",
            "'for' is a Python keyword.\n"
          ]
        }
      ]
    },
    {
      "cell_type": "code",
      "source": [
        "#question 5\n",
        "\n",
        "\n",
        "my_list = [1, 2, 3]\n",
        "my_tuple = (1, 2, 3)\n",
        "\n",
        "print(\"Original list:\", my_list)\n",
        "my_list[0] = 10\n",
        "print(\"Modified list:\", my_list)\n",
        "\n",
        "print(\"Original tuple:\", my_tuple)\n",
        "try:\n",
        "    my_tuple[0] = 10\n",
        "except TypeError as e:\n",
        "    print(\"Error:\", e)\n"
      ],
      "metadata": {
        "colab": {
          "base_uri": "https://localhost:8080/"
        },
        "id": "ex5xeDAGRvCd",
        "outputId": "219de681-b4fe-4ef3-cf46-51f5a86fd9f5"
      },
      "execution_count": 11,
      "outputs": [
        {
          "output_type": "stream",
          "name": "stdout",
          "text": [
            "Original list: [1, 2, 3]\n",
            "Modified list: [10, 2, 3]\n",
            "Original tuple: (1, 2, 3)\n",
            "Error: 'tuple' object does not support item assignment\n"
          ]
        }
      ]
    },
    {
      "cell_type": "code",
      "source": [
        "#question 6\n",
        "\n",
        "def demonstrate_mutable_immutable(mutable_arg, immutable_arg):\n",
        "    print(\"Before modification:\")\n",
        "    print(f\"Mutable argument: {mutable_arg}\")\n",
        "    print(f\"Immutable argument: {immutable_arg}\")\n",
        "\n",
        "    mutable_arg.append(4)\n",
        "\n",
        "    try:\n",
        "        immutable_arg = 10\n",
        "    except TypeError:\n",
        "        print(\"Cannot modify immutable argument directly\")\n",
        "\n",
        "    print(\"\\nAfter modification:\")\n",
        "    print(f\"Mutable argument: {mutable_arg}\")\n",
        "    print(f\"Immutable argument: {immutable_arg}\")\n",
        "\n",
        "\n",
        "mutable_list = [1, 2, 3]\n",
        "immutable_int = 5\n",
        "\n",
        "demonstrate_mutable_immutable(mutable_list, immutable_int)\n"
      ],
      "metadata": {
        "colab": {
          "base_uri": "https://localhost:8080/"
        },
        "id": "rZDxTtuWSTK_",
        "outputId": "a8be00b0-a2d5-46a9-896b-705110b1af07"
      },
      "execution_count": 12,
      "outputs": [
        {
          "output_type": "stream",
          "name": "stdout",
          "text": [
            "Before modification:\n",
            "Mutable argument: [1, 2, 3]\n",
            "Immutable argument: 5\n",
            "\n",
            "After modification:\n",
            "Mutable argument: [1, 2, 3, 4]\n",
            "Immutable argument: 10\n"
          ]
        }
      ]
    },
    {
      "cell_type": "code",
      "source": [
        "#question 7\n",
        "\n",
        "num1 = float(input(\"Enter the first number: \"))\n",
        "num2 = float(input(\"Enter the second number: \"))\n",
        "\n",
        "print(\"Addition:\", num1 + num2)\n",
        "print(\"Subtraction:\", num1 - num2)\n",
        "print(\"Multiplication:\", num1 * num2)\n",
        "if num2 != 0:\n",
        "    print(\"Division:\", num1 / num2)\n",
        "else:\n",
        "    print(\"Cannot divide by zero!\")\n"
      ],
      "metadata": {
        "colab": {
          "base_uri": "https://localhost:8080/"
        },
        "id": "7NI0v4o5TAFr",
        "outputId": "c2589ca6-ff5e-477d-e7ca-23e2800eee1a"
      },
      "execution_count": 13,
      "outputs": [
        {
          "output_type": "stream",
          "name": "stdout",
          "text": [
            "Enter the first number: 5\n",
            "Enter the second number: 3\n",
            "Addition: 8.0\n",
            "Subtraction: 2.0\n",
            "Multiplication: 15.0\n",
            "Division: 1.6666666666666667\n"
          ]
        }
      ]
    },
    {
      "cell_type": "code",
      "source": [
        "#question 8\n",
        "\n",
        "a = int(input(\"Enter first number: \"))\n",
        "b = int(input(\"Enter second number: \"))\n",
        "\n",
        "\n",
        "if a > 0 and b > 0:\n",
        "    print(\"Both numbers are positive.\")\n",
        "else:\n",
        "    print(\"At least one number is not positive.\")\n",
        "\n",
        "if a > 0 or b > 0:\n",
        "    print(\"At least one number is positive.\")\n",
        "else:\n",
        "    print(\"Neither number is positive.\")\n",
        "\n",
        "\n",
        "if not (a < 0 or b < 0):\n",
        "    print(\"Neither number is negative.\")\n",
        "else:\n",
        "    print(\"At least one number is negative.\")\n"
      ],
      "metadata": {
        "colab": {
          "base_uri": "https://localhost:8080/"
        },
        "id": "cye_iUpQT-Er",
        "outputId": "8cfab587-ed01-4931-dde3-53d0e203f210"
      },
      "execution_count": 15,
      "outputs": [
        {
          "output_type": "stream",
          "name": "stdout",
          "text": [
            "Enter first number: 5\n",
            "Enter second number: -6\n",
            "At least one number is not positive.\n",
            "At least one number is positive.\n",
            "At least one number is negative.\n"
          ]
        }
      ]
    },
    {
      "cell_type": "code",
      "source": [
        "#question 9\n",
        "\n",
        "# Get user input\n",
        "user_input = input(\"Enter a value: \")\n",
        "\n",
        "# Convert the input to integer\n",
        "try:\n",
        "    int_value = int(user_input)\n",
        "    print(f\"Converted to integer: {int_value}\")\n",
        "except ValueError:\n",
        "    print(\"Cannot convert to integer.\")\n",
        "\n",
        "# Convert the input to float\n",
        "try:\n",
        "    float_value = float(user_input)\n",
        "    print(f\"Converted to float: {float_value}\")\n",
        "except ValueError:\n",
        "    print(\"Cannot convert to float.\")\n",
        "\n",
        "# Convert the input to boolean\n",
        "if user_input.lower() in ['true', '1']:\n",
        "    bool_value = True\n",
        "elif user_input.lower() in ['false', '0']:\n",
        "    bool_value = False\n",
        "else:\n",
        "    bool_value = bool(user_input)\n",
        "print(f\"Converted to boolean: {bool_value}\")\n",
        "\n"
      ],
      "metadata": {
        "colab": {
          "base_uri": "https://localhost:8080/"
        },
        "id": "nbzGa0KiUvWR",
        "outputId": "4aae4ca5-eadb-4d0c-b82b-b098bb6e43a7"
      },
      "execution_count": 30,
      "outputs": [
        {
          "output_type": "stream",
          "name": "stdout",
          "text": [
            "Enter a value: 45\n",
            "Converted to integer: 45\n",
            "Converted to float: 45.0\n",
            "Converted to boolean: True\n"
          ]
        }
      ]
    },
    {
      "cell_type": "code",
      "source": [
        "#question 10\n",
        "\n",
        "# List of integers\n",
        "int_list = [1, 2, 3, 4]\n",
        "\n",
        "# Type casting integers to floats\n",
        "float_list = [float(x) for x in int_list]\n",
        "\n",
        "# Type casting integers to strings\n",
        "str_list = [str(x) for x in int_list]\n",
        "\n",
        "print(\"Original list (integers):\", int_list)\n",
        "print(\"List after casting to float:\", float_list )\n"
      ],
      "metadata": {
        "colab": {
          "base_uri": "https://localhost:8080/"
        },
        "id": "ouGbrC7EV-Qt",
        "outputId": "1e1208c5-6d10-4722-f9bb-14d0d5d346bd"
      },
      "execution_count": 23,
      "outputs": [
        {
          "output_type": "stream",
          "name": "stdout",
          "text": [
            "Original list (integers): [1, 2, 3, 4]\n",
            "List after casting to float: [1.0, 2.0, 3.0, 4.0]\n"
          ]
        }
      ]
    },
    {
      "cell_type": "code",
      "source": [
        "#question 11\n",
        "\n",
        "num = float(input(\"Enter a number: \"))\n",
        "\n",
        "if num > 0:\n",
        "    print(\"The number is positive.\")\n",
        "elif num < 0:\n",
        "    print(\"The number is negative.\")\n",
        "else:\n",
        "    print(\"The number is zero.\")\n"
      ],
      "metadata": {
        "colab": {
          "base_uri": "https://localhost:8080/"
        },
        "id": "WvbPfXO_WH_Z",
        "outputId": "0a21911f-6354-4eac-fef6-87444a1a0713"
      },
      "execution_count": 24,
      "outputs": [
        {
          "output_type": "stream",
          "name": "stdout",
          "text": [
            "Enter a number: 5\n",
            "The number is positive.\n"
          ]
        }
      ]
    },
    {
      "cell_type": "code",
      "source": [
        "#question 12\n",
        "\n",
        "for i in range(1, 11):\n",
        "    print(i)\n"
      ],
      "metadata": {
        "colab": {
          "base_uri": "https://localhost:8080/"
        },
        "id": "It12ZoU7XVZL",
        "outputId": "7c7330d2-e5f2-4d02-9895-bb1b806faf55"
      },
      "execution_count": 25,
      "outputs": [
        {
          "output_type": "stream",
          "name": "stdout",
          "text": [
            "1\n",
            "2\n",
            "3\n",
            "4\n",
            "5\n",
            "6\n",
            "7\n",
            "8\n",
            "9\n",
            "10\n"
          ]
        }
      ]
    },
    {
      "cell_type": "code",
      "source": [
        "# question 13\n",
        "\n",
        "sum_even = 0\n",
        "\n",
        "for number in range(1, 51):\n",
        "    if number % 2 == 0:\n",
        "        sum_even += number\n",
        "\n",
        "print(\"Sum of even numbers from 1 to 50 is:\", sum_even)\n"
      ],
      "metadata": {
        "colab": {
          "base_uri": "https://localhost:8080/"
        },
        "id": "1SbLdKihXkXV",
        "outputId": "0c2b1ce5-f39a-4dc8-ce50-6ebb7a997c80"
      },
      "execution_count": 26,
      "outputs": [
        {
          "output_type": "stream",
          "name": "stdout",
          "text": [
            "Sum of even numbers from 1 to 50 is: 650\n"
          ]
        }
      ]
    },
    {
      "cell_type": "code",
      "source": [
        "#question 14\n",
        "\n",
        "text = input(\"Enter a string: \")\n",
        "\n",
        "\n",
        "reversed_text = \"\"\n",
        "index = len(text) - 1\n",
        "\n",
        "\n",
        "while index >= 0:\n",
        "    reversed_text += text[index]\n",
        "    index -= 1\n",
        "\n",
        "print(\"Reversed string:\", reversed_text)\n"
      ],
      "metadata": {
        "colab": {
          "base_uri": "https://localhost:8080/"
        },
        "id": "zxgBv-iEX_d-",
        "outputId": "05543f2d-9ed4-488d-d66b-b1bc2eca62cb"
      },
      "execution_count": 28,
      "outputs": [
        {
          "output_type": "stream",
          "name": "stdout",
          "text": [
            "Enter a string: mehul\n",
            "Reversed string: luhem\n"
          ]
        }
      ]
    },
    {
      "cell_type": "code",
      "source": [
        "#question 15\n",
        "\n",
        "num = int(input(\"Enter a number to calculate its factorial: \"))\n",
        "\n",
        "factorial = 1\n",
        "i = 1\n",
        "\n",
        "while i <= num:\n",
        "    factorial *= i\n",
        "    i += 1\n",
        "\n",
        "print(f\"The factorial of {num} is {factorial}\")\n"
      ],
      "metadata": {
        "colab": {
          "base_uri": "https://localhost:8080/"
        },
        "id": "m3-bWPdHYzXa",
        "outputId": "206628b8-17ba-43b4-90b7-e53aa19025b9"
      },
      "execution_count": 29,
      "outputs": [
        {
          "output_type": "stream",
          "name": "stdout",
          "text": [
            "Enter a number to calculate its factorial: 5\n",
            "The factorial of 5 is 120\n"
          ]
        }
      ]
    },
    {
      "cell_type": "code",
      "source": [],
      "metadata": {
        "id": "o5wj8awFZNpI"
      },
      "execution_count": null,
      "outputs": []
    }
  ]
}